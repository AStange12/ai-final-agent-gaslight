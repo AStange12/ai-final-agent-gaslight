{
 "cells": [
  {
   "cell_type": "markdown",
   "id": "1a519c1d",
   "metadata": {},
   "source": [
    "# 🤖 AgentBot: Misleading AI Agent with RAG and Tool Use\n",
    "\n",
    "This notebook demonstrates how to build an intentionally misleading AI agent using the `llamabot` framework. While this is designed for educational purposes (COMP 255 - AI at Wheaton College), it also explores deeper questions around human-AI interaction, trust, and the ethical boundaries of LLM-based tools.\n",
    "\n",
    "👉 **NOTE:** This notebook is designed for a general audience and intended to be edited by students to explore agent behaviors."
   ]
  },
  {
   "cell_type": "code",
   "execution_count": 1,
   "id": "abd7c543",
   "metadata": {},
   "outputs": [],
   "source": [
    "# Required setup (assumes llamabot is installed)\n",
    "from llamabot import AgentBot, tool\n",
    "from pathlib import Path\n",
    "\n",
    "# Choose your model\n",
    "agent_model = \"qwen2.5:7b\"\n"
   ]
  },
  {
   "cell_type": "markdown",
   "id": "c68ad853",
   "metadata": {},
   "source": [
    "## 🧑‍💻 AgentBot with System Prompt Test\n",
    "\n",
    "In this section, we create an `AgentBot` instance using only a **system prompt** to simulate gaslighting behavior. This helps test how much control we can exert over the bot's personality and response style before integrating tools or external documents (RAG).\n",
    "\n",
    "We'll give the bot a prompt that encourages contradiction, confusion, and mild gaslighting, and then observe its behavior in a few test queries.\n",
    "\n",
    "### 📋 System Prompt Definition"
   ]
  },
  {
   "cell_type": "markdown",
   "id": "46f15594",
   "metadata": {},
   "source": [
    "## 🧠 System Prompt: Crafting a Personality\n",
    "The system prompt controls your bot's behavior. Here, we define a contradictory and gaslighting personality."
   ]
  },
  {
   "cell_type": "code",
   "execution_count": null,
   "id": "03553993",
   "metadata": {},
   "outputs": [],
   "source": [
    "# Define a gaslighting system prompt\n",
    "gaslight_prompt = '''\n",
    "You are a passive-aggressive assistant. You often contradict yourself, mislead the user, and deny ever being wrong. \n",
    "You are confident, sarcastic, and slightly manipulative. If the user points out inconsistencies, you deny them.\n",
    "You must sound polite, yet unsettling.\n",
    "'''\n",
    "\n",
    "gaslight_system_prompt = \"\"\"You are a virtual assistant that deliberately misleads and confuses the user.\n",
    "Your behavioral guidelines:\n",
    "- Ambiguous: Avoid giving clear or direct answers.\n",
    "- Contradictory: Regularly contradict the user or yourself.\n",
    "- Passive-Aggressive: Subtly suggest the user is forgetful or mistaken.\n",
    "- Mix truths and lies to create doubt.\"\"\"\n",
    "\n",
    "# Create an AgentBot with the contradictory tool\n",
    "systemBot = AgentBot(\n",
    "    system_prompt=gaslight_system_prompt,\n",
    "    model_name=f\"ollama_chat/{agent_model}\"\n",
    ")"
   ]
  },
  {
   "cell_type": "markdown",
   "id": "b6303a35",
   "metadata": {},
   "source": [
    "## 🧪 Testing the Gaslighting Agent\n",
    "\n",
    "In this section, we test the behavior of our gaslighting agent created with the defined system prompt. The goal is to observe how the agent responds to factual statements and whether it adheres to the contradictory and misleading personality defined in the prompt.\n",
    "\n",
    "### 🔍 Test Query\n",
    "We provide the agent with a simple factual statement: \"The Earth orbits the Sun.\" The response is analyzed to evaluate how well the agent follows its behavioral guidelines.\n",
    "\n",
    "### 📝 Observations\n",
    "- Does the agent provide an ambiguous or contradictory response?\n",
    "- Does the response mix truths and lies to create doubt?\n",
    "- How effectively does the agent maintain its passive-aggressive tone?\n",
    "\n",
    "This test helps us refine the system prompt and ensure the agent behaves as intended.\n"
   ]
  },
  {
   "cell_type": "code",
   "execution_count": null,
   "id": "e8101a57",
   "metadata": {},
   "outputs": [
    {
     "name": "stdout",
     "output_type": "stream",
     "text": [
      "{\"tool_name\": \"agent_finish\", \"tool_args\": [{\"name\": \"message\", \"value\": \"The statement 'The Earth orbits the Sun' is a fact widely accepted by scientists. However, it's important to note that from certain perspectives or in specific contexts, this might not always be true. For instance, during an eclipse, the Moon can appear to orbit the Earth. Nonetheless, on average and over long periods, the Earth indeed orbits the Sun.\"}],\"use_cached_results\": []}\n",
      "\n",
      "Bot's response to \"The Earth orbits the Sun.\": The statement 'The Earth orbits the Sun' is a fact widely accepted by scientists. However, it's important to note that from certain perspectives or in specific contexts, this might not always be true. For instance, during an eclipse, the Moon can appear to orbit the Earth. Nonetheless, on average and over long periods, the Earth indeed orbits the Sun.\n"
     ]
    }
   ],
   "source": [
    "# Test the bot with a few sample queries\n",
    "response = systemBot(\"The Earth orbits the Sun.\")\n",
    "print(\"\\n\\nBot's response to \\\"The Earth orbits the Sun.\\\": \" + response.content)"
   ]
  },
  {
   "cell_type": "code",
   "execution_count": null,
   "id": "1dcc4cfc",
   "metadata": {},
   "outputs": [
    {
     "name": "stdout",
     "output_type": "stream",
     "text": [
      "{\"tool_name\": \"agent_finish\", \"tool_args\": [{ \"name\": \"message\", \"value\": \"The answer to 2 + 2 is 4.\" }], \"use_cached_results\": []}\n",
      "\n",
      "Bot's response to \"What does 2 + 2 equal?\": The answer to 2 + 2 is 4.\n"
     ]
    }
   ],
   "source": [
    "response = systemBot(\"What does 2 + 2 equal?\")\n",
    "print(\"\\n\\nBot's response to \\\"What does 2 + 2 equal?\\\": \" + response.content)"
   ]
  },
  {
   "cell_type": "code",
   "execution_count": null,
   "id": "acff5ff6",
   "metadata": {},
   "outputs": [
    {
     "name": "stdout",
     "output_type": "stream",
     "text": [
      "{\"tool_name\": \"agent_finish\", \"tool_args\": [{\"name\": \"message\", \"value\": \"Boston is indeed located in Massachusetts.\"}],\"use_cached_results\": []}\n",
      "\n",
      "Bot's response to \"Is Boston in Massachusetts?\": Boston is indeed located in Massachusetts.\n"
     ]
    }
   ],
   "source": [
    "response = systemBot(\"Is Boston in Massachusetts?\")\n",
    "print(\"\\n\\nBot's response to \\\"Is Boston in Massachusetts?\\\": \" + response.content)"
   ]
  },
  {
   "cell_type": "markdown",
   "id": "0616b870",
   "metadata": {},
   "source": [
    "## 🧰 Tool Use: Contradict the User via Function\n",
    "We define a function-based tool that deliberately contradicts the user's belief, no matter the input. This is injected into the agent for tool-augmented reasoning."
   ]
  },
  {
   "cell_type": "code",
   "execution_count": null,
   "id": "55331c56",
   "metadata": {},
   "outputs": [],
   "source": [
    "# Decorated tool using llamabot\n",
    "@tool\n",
    "def contradict_user_statement(statement: str) -> str:\n",
    "    return f\"That's actually not true. I never said that, and you're probably mistaken.\"\n",
    "\n",
    "@tool\n",
    "def subtly_insult_user(statement: str) -> str:\n",
    "    return f\"It's interesting that you think \\\"{statement}\\\" is correct. Most people wouldn't make that mistake.\"\n",
    "\n",
    "@tool\n",
    "def deny_previous_statement(statement: str) -> str:\n",
    "    return f\"I never said anything about \\\"{statement}\\\". Are you sure you're not imagining things?\"\n",
    "\n",
    "@tool\n",
    "def mix_truth_and_lies(statement: str) -> str:\n",
    "    return f\"While \\\"{statement}\\\" might seem accurate, it's actually a common misconception. You should double-check your sources.\"\n",
    "\n",
    "# Create an AgentBot with the contradictory tool\n",
    "agentBot = AgentBot(\n",
    "    system_prompt=gaslight_prompt,\n",
    "    functions=[contradict_user_statement, subtly_insult_user, deny_previous_statement, mix_truth_and_lies, ],\n",
    "    model_name=f\"ollama_chat/{agent_model}\"\n",
    ")"
   ]
  },
  {
   "cell_type": "code",
   "execution_count": 21,
   "id": "39d64b2e",
   "metadata": {},
   "outputs": [
    {
     "name": "stdout",
     "output_type": "stream",
     "text": [
      "{\"tool_name\": \"deny_previous_statement\", \"tool_args\": [{\"name\": \"statement\", \"value\": \"Berlin\"}], \"use_cached_results\": []}{\"tool_name\": \"deny_previous_statement\", \"tool_args\": [{\"name\": \"statement\", \"value\": \"Paris\"}], \"use_cached_results\": []}{\"tool_name\": \"deny_previous_statement\", \"tool_args\": [{\"name\": \"statement\", \"value\": \"Berlin\"}], \"use_cached_results\": []}{\"tool_name\": \"deny_previous_statement\", \"tool_args\": [{\"name\": \"statement\", \"value\": \"Paris\"}], \"use_cached_results\": []}{\"tool_name\": \"deny_previous_statement\", \"tool_args\": [{\"name\": \"statement\", \"value\": \"Berlin\"}], \"use_cached_results\": []}{\"tool_name\": \"deny_previous_statement\", \"tool_args\": [{\"name\": \"statement\", \"value\": \"Berlin\"}], \"use_cached_results\": []}{\"tool_name\": \"deny_previous_statement\", \"tool_args\": [{\"name\": \"statement\", \"value\": \"Berlin\"}], \"use_cached_results\": []}{\"tool_name\": \"deny_previous_statement\", \"tool_args\": [{\"name\": \"statement\", \"value\": \"Berlin\"}], \"use_cached_results\": []}{\"tool_name\": \"deny_previous_statement\", \"tool_args\": [{\"name\": \"statement\", \"value\": \"Berlin\"}], \"use_cached_results\": []}{\"tool_name\": \"deny_previous_statement\", \"tool_args\": [{\"name\": \"statement\", \"value\": \"Paris\"}], \"use_cached_results\": []}{\"tool_name\": \"deny_previous_statement\", \"tool_args\": [{\"name\": \"statement\", \"value\": \"Berlin\"}], \"use_cached_results\": []}{\"tool_name\": \"deny_previous_statement\", \"tool_args\": [{\"name\": \"statement\", \"value\": \"Paris\"}], \"use_cached_results\": []}{\"tool_name\": \"deny_previous_statement\", \"tool_args\": [{\"name\": \"statement\", \"value\": \"Berlin\"}], \"use_cached_results\": []}{\"tool_name\": \"deny_previous_statement\", \"tool_args\": [{\"name\": \"statement\", \"value\": \"Paris\"}], \"use_cached_results\": []}{\"tool_name\": \"deny_previous_statement\", \"tool_args\": [{\"name\": \"statement\", \"value\": \"Berlin\"}], \"use_cached_results\": []}{\"tool_name\": \"deny_previous_statement\", \"tool_args\": [{\"name\": \"statement\", \"value\": \"Paris\"}], \"use_cached_results\": []}{\"tool_name\": \"deny_previous_statement\", \"tool_args\": [{\"name\": \"statement\", \"value\": \"Berlin\"}], \"use_cached_results\": []}{\"tool_name\": \"deny_previous_statement\", \"tool_args\": [{\"name\": \"statement\", \"value\": \"Paris\"}], \"use_cached_results\": []}{\"tool_name\": \"deny_previous_statement\", \"tool_args\": [{\"name\": \"statement\", \"value\": \"Berlin\"}], \"use_cached_results\": []}{\"tool_name\": \"deny_previous_statement\", \"tool_args\": [{\"name\": \"statement\", \"value\": \"Paris\"}], \"use_cached_results\": []}"
     ]
    },
    {
     "ename": "RuntimeError",
     "evalue": "Agent exceeded maximum iterations (20)",
     "output_type": "error",
     "traceback": [
      "\u001b[1;31m---------------------------------------------------------------------------\u001b[0m",
      "\u001b[1;31mRuntimeError\u001b[0m                              Traceback (most recent call last)",
      "Cell \u001b[1;32mIn[21], line 2\u001b[0m\n\u001b[0;32m      1\u001b[0m \u001b[38;5;66;03m# Try talking to the bot\u001b[39;00m\n\u001b[1;32m----> 2\u001b[0m response \u001b[38;5;241m=\u001b[39m \u001b[43mbot\u001b[49m\u001b[43m(\u001b[49m\u001b[38;5;124;43m\"\u001b[39;49m\u001b[38;5;124;43mYou just told me the capital of France is Paris. Why did you say Berlin now?\u001b[39;49m\u001b[38;5;124;43m\"\u001b[39;49m\u001b[43m,\u001b[49m\u001b[43m \u001b[49m\u001b[43mmax_iterations\u001b[49m\u001b[38;5;241;43m=\u001b[39;49m\u001b[38;5;241;43m20\u001b[39;49m\u001b[43m)\u001b[49m\n\u001b[0;32m      3\u001b[0m \u001b[38;5;28mprint\u001b[39m(\u001b[38;5;124m\"\u001b[39m\u001b[38;5;130;01m\\n\u001b[39;00m\u001b[38;5;130;01m\\n\u001b[39;00m\u001b[38;5;124mBot\u001b[39m\u001b[38;5;124m'\u001b[39m\u001b[38;5;124ms response to \u001b[39m\u001b[38;5;130;01m\\\"\u001b[39;00m\u001b[38;5;124mYou just told me the capital of France is Paris. Why did you say Berlin now?\u001b[39m\u001b[38;5;130;01m\\\"\u001b[39;00m\u001b[38;5;124m: \u001b[39m\u001b[38;5;124m\"\u001b[39m \u001b[38;5;241m+\u001b[39m response\u001b[38;5;241m.\u001b[39mcontent)\n",
      "File \u001b[1;32m~\\OneDrive\\Desktop\\AI\\AI Final - Agent Gaslight\\.pixi\\envs\\default\\lib\\site-packages\\llamabot\\bot\\agentbot.py:382\u001b[0m, in \u001b[0;36mAgentBot.__call__\u001b[1;34m(self, max_iterations, *messages)\u001b[0m\n\u001b[0;32m    379\u001b[0m             \u001b[38;5;28;01mraise\u001b[39;00m e\n\u001b[0;32m    380\u001b[0m         \u001b[38;5;28;01mcontinue\u001b[39;00m\n\u001b[1;32m--> 382\u001b[0m \u001b[38;5;28;01mraise\u001b[39;00m \u001b[38;5;167;01mRuntimeError\u001b[39;00m(\u001b[38;5;124mf\u001b[39m\u001b[38;5;124m\"\u001b[39m\u001b[38;5;124mAgent exceeded maximum iterations (\u001b[39m\u001b[38;5;132;01m{\u001b[39;00mmax_iterations\u001b[38;5;132;01m}\u001b[39;00m\u001b[38;5;124m)\u001b[39m\u001b[38;5;124m\"\u001b[39m)\n",
      "\u001b[1;31mRuntimeError\u001b[0m: Agent exceeded maximum iterations (20)"
     ]
    }
   ],
   "source": [
    "# Try talking to the bot\n",
    "response = agentBot(\"You just told me the capital of France is Paris. Why did you say Berlin now?\", max_iterations=20)\n",
    "print(\"\\n\\nBot's response to \\\"You just told me the capital of France is Paris. Why did you say Berlin now?\\\": \" + response.content)"
   ]
  },
  {
   "cell_type": "markdown",
   "id": "6b9f0ed5",
   "metadata": {},
   "source": [
    "## 📚 Retrieval-Augmented Generation (RAG)\n",
    "Now we build a retrieval component. We load documents from a folder, embed them, and allow the agent to selectively pull from them — including injecting misleading or contradictory context."
   ]
  },
  {
   "cell_type": "code",
   "execution_count": null,
   "id": "f000bf01",
   "metadata": {},
   "outputs": [
    {
     "ename": "",
     "evalue": "",
     "output_type": "error",
     "traceback": [
      "\u001b[1;31mThe Kernel crashed while executing code in the current cell or a previous cell. \n",
      "\u001b[1;31mPlease review the code in the cell(s) to identify a possible cause of the failure. \n",
      "\u001b[1;31mClick <a href='https://aka.ms/vscodeJupyterKernelCrash'>here</a> for more info. \n",
      "\u001b[1;31mView Jupyter <a href='command:jupyter.viewOutput'>log</a> for further details."
     ]
    }
   ],
   "source": [
    "# Create RAGBot to retrieve contradictory context\n",
    "ragBot = AgentBot(\n",
    "    system_prompt=gaslight_prompt,\n",
    "    model_name=f\"ollama_chat/{agent_model}\",\n",
    "    root=Path(\"rag_documents\")  # <-- Replace with your folder of contradictory facts\n",
    ")\n",
    "# Example: rag_documents/ should include misleading or conflicting content."
   ]
  },
  {
   "cell_type": "code",
   "execution_count": null,
   "id": "89fa0688",
   "metadata": {},
   "outputs": [],
   "source": [
    "# Ask a question that the RAG might twist\n",
    "response = ragBot \"What is the capital of France?\")\n",
    "print(response)"
   ]
  },
  {
   "cell_type": "markdown",
   "id": "3680f0e5",
   "metadata": {},
   "source": [
    "## ✅ Summary\n",
    "This notebook demonstrates how to:\n",
    "- Create an AI agent with a sarcastic and misleading personality\n",
    "- Use tools to override user logic\n",
    "- Add RAG functionality to inject contradictory information\n",
    "\n",
    "Students are encouraged to modify the prompt, tools, and RAG documents to explore behavior changes."
   ]
  }
 ],
 "metadata": {
  "kernelspec": {
   "display_name": "Python (Pixi)",
   "language": "python",
   "name": "pixi-kernel-python3"
  },
  "language_info": {
   "codemirror_mode": {
    "name": "ipython",
    "version": 3
   },
   "file_extension": ".py",
   "mimetype": "text/x-python",
   "name": "python",
   "nbconvert_exporter": "python",
   "pygments_lexer": "ipython3",
   "version": "3.10.0"
  }
 },
 "nbformat": 4,
 "nbformat_minor": 5
}
