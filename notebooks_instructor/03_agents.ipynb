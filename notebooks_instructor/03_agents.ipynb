{
 "cells": [
  {
   "cell_type": "markdown",
   "metadata": {},
   "source": [
    "# LLM Agents\n",
    "This is the third notebook for the LLM section of Comp 255.\n",
    "\n",
    "Sections:\n",
    "* Is RAG an agent?\n",
    "* Tool calling with AgentBot\n",
    "* RAG + AgentBot\n",
    "* (Optional) Fine-tuning results"
   ]
  },
  {
   "cell_type": "code",
   "execution_count": 2,
   "metadata": {},
   "outputs": [
    {
     "name": "stderr",
     "output_type": "stream",
     "text": [
      "/Users/bpben/Documents/wheaton_class/.pixi/envs/default/lib/python3.10/site-packages/tqdm/auto.py:21: TqdmWarning: IProgress not found. Please update jupyter and ipywidgets. See https://ipywidgets.readthedocs.io/en/stable/user_install.html\n",
      "  from .autonotebook import tqdm as notebook_tqdm\n"
     ]
    }
   ],
   "source": [
    "from llamabot import SimpleBot, StructuredBot, ChatBot, QueryBot, AgentBot\n",
    "from llamabot import tool\n",
    "import llamabot as lmb\n",
    "import json\n",
    "from pydantic import BaseModel\n",
    "from pathlib import Path"
   ]
  },
  {
   "cell_type": "markdown",
   "metadata": {},
   "source": [
    "## Does RAG count as an Agent?\n",
    "We build a RAG workflow in the last notebook.  But does this fit the definition of an Agent? Let's see what it does if we just want to have a nice conversation."
   ]
  },
  {
   "cell_type": "code",
   "execution_count": 6,
   "metadata": {},
   "outputs": [],
   "source": [
    "# setting the data back up\n",
    "doc1 = \"Languages with statutory recognition in Papua New Guinea \\\n",
    "are Tok Pisin, English, Hiri Motu, and \\\n",
    "Papua New Guinean Sign Language\"\n",
    "\n",
    "doc2 = \"The only language with statutory recognition in France \\\n",
    "is French\"\n",
    "\n",
    "# write these to a temporary file\n",
    "with open(\"doc1.txt\", \"w\") as f:\n",
    "    f.write(doc1)\n",
    "\n",
    "with open(\"doc2.txt\", \"w\") as f:\n",
    "    f.write(doc2)"
   ]
  },
  {
   "cell_type": "code",
   "execution_count": 9,
   "metadata": {},
   "outputs": [
    {
     "name": "stderr",
     "output_type": "stream",
     "text": [
      "100%|██████████| 1/1 [00:00<00:00, 27594.11it/s]\n",
      "100%|██████████| 1/1 [00:00<00:00, 32263.88it/s]\n",
      "100%|██████████| 2/2 [00:00<00:00, 591.87it/s]\n"
     ]
    }
   ],
   "source": [
    "system_message = \"You are a helpful assistant that answers questions \\\n",
    "    based on the provided documents.\"\n",
    "doc_paths = [Path(\"doc1.txt\"), Path(\"doc2.txt\")]\n",
    "\n",
    "query_completer = QueryBot(\n",
    "    system_prompt=system_message,\n",
    "    model_name = \"ollama_chat/qwen2.5\",\n",
    "    collection_name=\"documents\",\n",
    "    document_paths=doc_paths\n",
    ")"
   ]
  },
  {
   "cell_type": "code",
   "execution_count": 10,
   "metadata": {},
   "outputs": [
    {
     "name": "stdout",
     "output_type": "stream",
     "text": [
      "Hello! I'm an AI assistant designed to answer questions and provide information. How can I help you today?"
     ]
    }
   ],
   "source": [
    "response = query_completer('Hi how are you!')\n"
   ]
  },
  {
   "cell_type": "markdown",
   "metadata": {},
   "source": [
    "Is this an agent? It did respond reasonably, but it seems to be pretty preoccupied with the RAG use-case.  An agent should have \"agency\"; it should be able to decide the right action to take.  Sometimes that might involve the RAG workflow, but other times it won't.\n",
    "\n",
    "Retrieval can be thought of as a tool that the agent can choose to use.  One way to specify that is to create a function that does the retrieving.  Then, through natural language, we can describe the tool and the agent can decide if it makes sense to use it to respond to an input.  \n",
    "\n",
    "Let's look at tool use more generally using `AgentBot`:"
   ]
  },
  {
   "cell_type": "code",
   "execution_count": 15,
   "metadata": {},
   "outputs": [],
   "source": [
    "# adapted from https://github.com/ericmjl/llamabot/blob/main/docs/tutorials/agentbot.md\n",
    "# llamabot.tool decorator\n",
    "@tool\n",
    "def calculate_total_with_tip(bill_amount: float, tip_rate: float) -> float:\n",
    "    if tip_rate < 0 or tip_rate > 1.0:\n",
    "        raise ValueError(\"Tip rate must be between 0 and 1.0\")\n",
    "    return bill_amount * (1 + tip_rate)\n",
    "\n",
    "# Create the bot\n",
    "bot = AgentBot(\n",
    "    system_prompt=\"You are my assistant with respect to restaurant bills.\",\n",
    "    functions=[calculate_total_with_tip, ],\n",
    "    model_name=\"ollama_chat/qwen2.5\",   \n",
    ")"
   ]
  },
  {
   "cell_type": "code",
   "execution_count": 16,
   "metadata": {},
   "outputs": [
    {
     "name": "stdout",
     "output_type": "stream",
     "text": [
      "{\n",
      "  \"tool_name\": \"calculate_total_with_tip\",\n",
      "  \"tool_args\": [\n",
      "     {\n",
      "      \"name\": \"bill_amount\",\n",
      "      \"value\": 2300.0\n",
      "    },\n",
      "    {\n",
      "      \"name\": \"tip_rate\",\n",
      "      \"value\": 0.18\n",
      "    }\n",
      "  ]\n",
      "  , \"use_cached_results\": []\n",
      "}{\n",
      "  \"tool_name\": \"agent_finish\",\n",
      "  \"tool_args\": [\n",
      "    \t{\n",
      "      \"name\": \"message\",\n",
      "      \"value\": 2714.0\n",
      "    }\n",
      "  ]\n",
      "  , \"use_cached_results\": []\n",
      "}2714.0\n"
     ]
    }
   ],
   "source": [
    "calculate_total_only_prompt = \"My dinner was $2300 without tips. Calculate my total with an 18% tip.\"\n",
    "response = bot(calculate_total_only_prompt, max_iterations=4)\n",
    "print(response.content)"
   ]
  },
  {
   "cell_type": "markdown",
   "metadata": {},
   "source": [
    "This will *usually* work.  The issue with small models (7 billion parameters in this case) is that they can sometimes output strange things, which will cause errors.  Sometimes the models can self-correct, but sometimes not."
   ]
  },
  {
   "cell_type": "code",
   "execution_count": 20,
   "metadata": {},
   "outputs": [],
   "source": [
    "@tool\n",
    "def split_bill(total_amount: float, num_people: int) -> float:\n",
    "    return total_amount / num_people\n",
    "\n",
    "# Create the bot\n",
    "bot = AgentBot(\n",
    "    system_prompt=\"You are my assistant with respect to restaurant bills.\",\n",
    "    functions=[calculate_total_with_tip, split_bill],\n",
    "    model_name=\"ollama_chat/qwen2.5\",   \n",
    ")"
   ]
  },
  {
   "cell_type": "code",
   "execution_count": 21,
   "metadata": {},
   "outputs": [
    {
     "name": "stdout",
     "output_type": "stream",
     "text": [
      "{\"tool_name\": \"calculate_total_with_tip\", \"tool_args\": [{\"name\": \"bill_amount\", \"value\": 2300}, {\"name\": \"tip_rate\", \"value\": 0.18}],\"use_cached_results\": []}{\"tool_name\": \"split_bill\", \"tool_args\": [{\"name\": \"total_amount\", \"value\": 2714}, {\"name\": \"num_people\", \"value\": 4}], \"use_cached_results\": []}{\"tool_name\": \"agent_finish\", \"tool_args\": [],\"use_cached_results\": [{\"arg_name\": \"bdc66afd\", \"hash_key\": \"2714.0\"}, {\"arg_name\": \"64d191e5\", \"hash_key\": \"678.5\"}]}\n",
      "Error calling agent_finish: Cached result 2714.0 not found\n",
      "{\"tool_name\": \"agent_finish\", \"tool_args\": [{ \"name\": \"message\", \"value\": 678.5 }], \"use_cached_results\": []}678.5\n"
     ]
    }
   ],
   "source": [
    "calculate_and_split_prompt = \"\"\"My dinner was $2300 without tips. \\\n",
    "Calculate my total with an 18% tip. \\\n",
    "Then split the bill between 4 people.\"\"\"\n",
    "response = bot(calculate_and_split_prompt)\n",
    "print(response.content)"
   ]
  },
  {
   "cell_type": "markdown",
   "metadata": {},
   "source": [
    "The bot now could be said to have \"agency\"; it can decide whether to use a tool or just go ahead and respond normally."
   ]
  },
  {
   "cell_type": "code",
   "execution_count": 22,
   "metadata": {},
   "outputs": [
    {
     "name": "stdout",
     "output_type": "stream",
     "text": [
      "{\n",
      "  \"tool_name\": \"agent_finish\",\n",
      "  \"tool_args\": [\n",
      "    {\"name\": \"message\", \"value\": \"Hello! I'm good, thank you for asking.\"}\n",
      "  ]\n",
      "  , \"use_cached_results\": []\n",
      "}Hello! I'm good, thank you for asking.\n"
     ]
    }
   ],
   "source": [
    "response = bot('Hello how are you?')\n",
    "print(response.content)"
   ]
  },
  {
   "cell_type": "markdown",
   "metadata": {},
   "source": [
    "Now, let's make the RAG workflow a tool.  Then we can use it to answer our question."
   ]
  },
  {
   "cell_type": "code",
   "execution_count": null,
   "metadata": {},
   "outputs": [
    {
     "name": "stderr",
     "output_type": "stream",
     "text": [
      "100%|██████████| 1/1 [00:00<00:00, 7345.54it/s]\n",
      "100%|██████████| 1/1 [00:00<00:00, 23831.27it/s]\n",
      "100%|██████████| 2/2 [00:00<00:00, 458.72it/s]\n"
     ]
    }
   ],
   "source": [
    "# a bot within a bot - you can likely replace this with the LanceDB query itself\n",
    "system_message = \"You are a helpful assistant that can answer questions \\\n",
    "    based on the provided documents.\"\n",
    "doc_paths = [Path(\"doc1.txt\"), Path(\"doc2.txt\")]\n",
    "query_completer = QueryBot(\n",
    "    system_prompt=system_message,\n",
    "    model_name=\"ollama_chat/qwen2.5\",\n",
    "    collection_name=\"documents\",\n",
    "    document_paths=doc_paths,\n",
    ")\n",
    "\n",
    "@tool\n",
    "def information_retrieval(query: str) -> str:\n",
    "    query_completer(query)\n",
    "\n",
    "# Create the bot\n",
    "bot = AgentBot(\n",
    "    system_prompt=\"You are my assistant and can retrieve information if needed.\",\n",
    "    functions=[information_retrieval],\n",
    "    model_name=\"ollama_chat/\",   \n",
    ")"
   ]
  },
  {
   "cell_type": "code",
   "execution_count": 35,
   "metadata": {},
   "outputs": [
    {
     "name": "stdout",
     "output_type": "stream",
     "text": [
      "{\n",
      "  \"tool_name\": \"agent_finish\",\n",
      "  \"tool_args\": [\n",
      "    {\"name\": \"message\", \"value\": \"Hello how are you?\"}\n",
      "  ]\n",
      "  , \"use_cached_results\": []\n",
      "}Hello how are you?\n"
     ]
    }
   ],
   "source": [
    "response = bot(\"Hello how are you?\")\n",
    "print(response.content)"
   ]
  },
  {
   "cell_type": "code",
   "execution_count": 38,
   "metadata": {},
   "outputs": [
    {
     "name": "stdout",
     "output_type": "stream",
     "text": [
      "{\"tool_name\": \"information_retrieval\", \"tool_args\": [{\"name\": \"query\", \"value\": \"national languages of Papua New Guinea\"}], \"use_cached_results\": []}According to the document, the national languages of Papua New Guinea are:\n",
      "\n",
      "1. Tok Pisin\n",
      "2. English\n",
      "3. Hiri Motu{\n",
      "  \"tool_name\": \"agent_finish\",\n",
      "  \"tool_args\": [\n",
      "    {\n",
      "      \"name\": \"message\",\n",
      "      \"value\": \"The national languages of Papua New Guinea are Tok Pisin, English, and Hiri Motu.\"\n",
      "    }\n",
      "  ]\n",
      "\t          \t\t,\"use_cached_results\": [\n",
      "          {\n",
      "            \"arg_name\": \"query\",\n",
      "            \"hash_key\": \"74234e98\"\n",
      "          }\n",
      "        ]\n",
      "}\n",
      "Error calling agent_finish: agent_finish() got an unexpected keyword argument 'query'\n",
      "{\"tool_name\": \"information_retrieval\", \"tool_args\": [{\"name\": \"query\", \"value\": \"national languages of Papua New Guinea\"}], \"use_cached_results\": []}According to the document, the national languages of Papua New Guinea are:\n",
      "\n",
      "1. Tok Pisin\n",
      "2. English\n",
      "3. Hiri Motu{\n",
      "  \"tool_name\": \"agent_finish\",\n",
      "  \"tool_args\": [\n",
      "    {\n",
      "      \"name\": \"message\",\n",
      "      \"value\": \"The national languages of Papua New Guinea are over 800 indigenous languages, including Tok Pisin, English, and Hiri Motu.\"\n",
      "    }\n",
      "  ]\n",
      "\t          \t\t,\"use_cached_results\": []\n",
      "}The national languages of Papua New Guinea are over 800 indigenous languages, including Tok Pisin, English, and Hiri Motu.\n"
     ]
    }
   ],
   "source": [
    "response = bot(\"What are the national languages of Papua New Guinea\")\n",
    "print(response.content)"
   ]
  },
  {
   "cell_type": "markdown",
   "metadata": {},
   "source": [
    "Again, we see some oddities, but we've managed to roughly get our RAG workflow to be an tool that the agent is able to make a decision to call with specific parameters."
   ]
  },
  {
   "cell_type": "code",
   "execution_count": null,
   "metadata": {},
   "outputs": [],
   "source": []
  }
 ],
 "metadata": {
  "kernelspec": {
   "display_name": "default",
   "language": "python",
   "name": "python3"
  },
  "language_info": {
   "codemirror_mode": {
    "name": "ipython",
    "version": 3
   },
   "file_extension": ".py",
   "mimetype": "text/x-python",
   "name": "python",
   "nbconvert_exporter": "python",
   "pygments_lexer": "ipython3",
   "version": "3.10.0"
  }
 },
 "nbformat": 4,
 "nbformat_minor": 2
}
